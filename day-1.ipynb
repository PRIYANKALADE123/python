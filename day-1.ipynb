{
 "cells": [
  {
   "cell_type": "code",
   "execution_count": 1,
   "id": "b75dd84a-b70c-4d7f-9527-a76cc7297eb4",
   "metadata": {},
   "outputs": [
    {
     "data": {
      "text/plain": [
       "4"
      ]
     },
     "execution_count": 1,
     "metadata": {},
     "output_type": "execute_result"
    }
   ],
   "source": [
    "2+2"
   ]
  },
  {
   "cell_type": "code",
   "execution_count": 17,
   "id": "fd4a3a16-3628-4696-9ef2-6357f1857116",
   "metadata": {},
   "outputs": [
    {
     "data": {
      "text/plain": [
       "-5"
      ]
     },
     "execution_count": 17,
     "metadata": {},
     "output_type": "execute_result"
    }
   ],
   "source": [
    "2-7"
   ]
  },
  {
   "cell_type": "raw",
   "id": "8ce7294f-9ad1-4843-809a-019fb9cd89e7",
   "metadata": {},
   "source": [
    "# heading1\n",
    "## this is seconding heading\n",
    "### 3 hash heading\n",
    "#### four hash heading\n",
    "##### 5 head\n",
    "###### heading 6"
   ]
  },
  {
   "cell_type": "markdown",
   "id": "e75d5490-a7fb-46b9-a13b-c73be17c4f98",
   "metadata": {},
   "source": [
    "# heading1\n",
    "### 3 hash heading\n",
    "#### four hash heading\n",
    "##### 5 head\n",
    "###### heading 6"
   ]
  },
  {
   "cell_type": "raw",
   "id": "99ac0db0-f5de-42db-a063-2997066bdcc0",
   "metadata": {},
   "source": [
    "# bullet point\n",
    "\n",
    "* point 1\n",
    "\n",
    "* this is point 2\n",
    "\n",
    "* this is point 3"
   ]
  },
  {
   "cell_type": "markdown",
   "id": "670da52a-760f-4c33-bad7-4f7be1c41906",
   "metadata": {},
   "source": [
    "# bullet point\n",
    "\n",
    "\n",
    "* point 1\n",
    "\n",
    "* this is point 2\n",
    "\n",
    "* this is point 3"
   ]
  },
  {
   "cell_type": "code",
   "execution_count": null,
   "id": "631832da-60be-4a5d-ae65-fbeb5ba4bd91",
   "metadata": {},
   "outputs": [],
   "source": []
  }
 ],
 "metadata": {
  "kernelspec": {
   "display_name": "Python 3 (ipykernel)",
   "language": "python",
   "name": "python3"
  },
  "language_info": {
   "codemirror_mode": {
    "name": "ipython",
    "version": 3
   },
   "file_extension": ".py",
   "mimetype": "text/x-python",
   "name": "python",
   "nbconvert_exporter": "python",
   "pygments_lexer": "ipython3",
   "version": "3.12.4"
  }
 },
 "nbformat": 4,
 "nbformat_minor": 5
}
