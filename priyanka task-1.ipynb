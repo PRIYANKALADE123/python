{
 "cells": [
  {
   "cell_type": "markdown",
   "id": "6490f276-0eca-4e1d-a5c0-f8fa3f4fab8c",
   "metadata": {},
   "source": [
    "# Check String\n",
    "## To check if a certain phrase or character is present in a string, we can use the keyword 'in'.\n",
    "### Check if \"free\" is present in the following text:"
   ]
  },
  {
   "cell_type": "code",
   "execution_count": 2,
   "id": "5093e667-ca87-4414-81d3-8e12a1765312",
   "metadata": {},
   "outputs": [
    {
     "name": "stdout",
     "output_type": "stream",
     "text": [
      "True\n"
     ]
    }
   ],
   "source": [
    "txt = \"The best things in life are free!\"\n",
    "print(\"free\" in txt)\n"
   ]
  },
  {
   "cell_type": "code",
   "execution_count": 3,
   "id": "305ac796-3bb7-44de-8763-864366b7df70",
   "metadata": {},
   "outputs": [
    {
     "name": "stdout",
     "output_type": "stream",
     "text": [
      "False\n"
     ]
    }
   ],
   "source": [
    "txt = \" The best things in life are better\"\n",
    "print(\"free\" in txt)"
   ]
  },
  {
   "cell_type": "markdown",
   "id": "9ad3987b-5717-4711-a3f8-a151dccc1215",
   "metadata": {},
   "source": [
    "# Looping Through a String\n",
    "## Since strings are arrays, we can loop through the characters in a string, with a \"for loop\".\n",
    "### Loop through the letters in the word \"beauty\"\r\n",
    "\r\n",
    "\r\n"
   ]
  },
  {
   "cell_type": "code",
   "execution_count": 6,
   "id": "6ce97e40-a320-4a4f-b4f1-3e2990bf0a33",
   "metadata": {},
   "outputs": [
    {
     "name": "stdout",
     "output_type": "stream",
     "text": [
      "b\n",
      "e\n",
      "a\n",
      "u\n",
      "t\n",
      "y\n"
     ]
    }
   ],
   "source": [
    "for x in \"beauty\":\n",
    "    print(x)"
   ]
  },
  {
   "cell_type": "markdown",
   "id": "939743ef-7bd8-449a-af19-43ae42ce20be",
   "metadata": {},
   "source": [
    "# Check if NOT\n",
    "## To check if a certain phrase or character is NOT present in a string, we can use the keyword \"not in\".\r",
    "### Check if \"expensive\" is NOT present in the following text:\r\n",
    "\r\n",
    "\n",
    "\r\n",
    "\r\n"
   ]
  },
  {
   "cell_type": "code",
   "execution_count": 7,
   "id": "4236c844-706d-4307-a394-2e0303ae8f0b",
   "metadata": {},
   "outputs": [
    {
     "name": "stdout",
     "output_type": "stream",
     "text": [
      "True\n"
     ]
    }
   ],
   "source": [
    "txt = \"The best things in life are better!\"\n",
    "print(\"expensive\" not in txt)"
   ]
  },
  {
   "cell_type": "markdown",
   "id": "d5d4a729-6fb9-4571-bbb9-8a088d92681e",
   "metadata": {},
   "source": [
    "# Upper Case\n",
    "## The \"upper()\" method returns the string in upper case:\r\n",
    "\r\n",
    "\r\n"
   ]
  },
  {
   "cell_type": "code",
   "execution_count": 8,
   "id": "346db057-8da7-4650-b442-222fd1df67a4",
   "metadata": {},
   "outputs": [
    {
     "name": "stdout",
     "output_type": "stream",
     "text": [
      "NICE TO MEET YOU!\n"
     ]
    }
   ],
   "source": [
    "a = \"nice to meet you!\"\n",
    "print(a.upper())\n"
   ]
  },
  {
   "cell_type": "markdown",
   "id": "afa4b5af-4787-4e86-b13b-a2c4bc6d04c7",
   "metadata": {},
   "source": [
    "# Slicing\n",
    "## You can return a range of characters by using the slice syntax.Specify the start index and the end index, separated by a colon (:), to return a part of the string.\n",
    "### Get the characters from position 2 to position 5 ( not include).\r\n",
    "\r\n",
    "\r\n",
    "g."
   ]
  },
  {
   "cell_type": "code",
   "execution_count": 9,
   "id": "4dd8e477-ffdb-4837-981c-6af7366d360d",
   "metadata": {},
   "outputs": [
    {
     "name": "stdout",
     "output_type": "stream",
     "text": [
      "llo\n"
     ]
    }
   ],
   "source": [
    "b = \"Hello, World!\"\n",
    "print(b[2:5])\n"
   ]
  },
  {
   "cell_type": "markdown",
   "id": "b407772c-8314-414e-bdcb-64d2f9d5b6e3",
   "metadata": {},
   "source": [
    "## Slice From the Start\n",
    "### Get the characters from the start to position 5 (not included):\r\n",
    "\r\n",
    "\n",
    "\r\n"
   ]
  },
  {
   "cell_type": "code",
   "execution_count": 10,
   "id": "4b76c668-4c6b-49ef-8cb3-f65232beb168",
   "metadata": {},
   "outputs": [
    {
     "name": "stdout",
     "output_type": "stream",
     "text": [
      "Hello\n"
     ]
    }
   ],
   "source": [
    "b = \"Hello, World!\"\n",
    "print(b[:5])\n"
   ]
  },
  {
   "cell_type": "markdown",
   "id": "3cb1134e-9334-4dbc-a582-af1470a48d28",
   "metadata": {},
   "source": [
    "## Slice To the End\n",
    "### Get the characters from position 2, and all the way to the end:\r\n",
    "\r\n",
    "\r\n"
   ]
  },
  {
   "cell_type": "code",
   "execution_count": 11,
   "id": "36e13b5d-9401-4e36-bdf3-f8b55a281f2d",
   "metadata": {},
   "outputs": [
    {
     "name": "stdout",
     "output_type": "stream",
     "text": [
      "llo, World!\n"
     ]
    }
   ],
   "source": [
    "b = \"Hello, World!\"\n",
    "print(b[2:])\n"
   ]
  },
  {
   "cell_type": "markdown",
   "id": "b5e50c31-ae1a-4adb-9a56-374626074210",
   "metadata": {},
   "source": [
    "# Negative Indexing\r",
    "## Use negative indexes to start the slice from the end of the string:\n",
    "### Get the character:From  \"r\" in \"World!\" (position -4), but not included: \"d\" in \"World!\" (position -2):\r\n",
    "\r\n",
    "\r\n",
    "\n"
   ]
  },
  {
   "cell_type": "code",
   "execution_count": 17,
   "id": "85c96a21-98ad-45eb-bc86-5a5610ed6847",
   "metadata": {},
   "outputs": [
    {
     "name": "stdout",
     "output_type": "stream",
     "text": [
      "rl\n"
     ]
    }
   ],
   "source": [
    "b = \"Hello, World!\"\n",
    "print(b[-4:-2])\n"
   ]
  },
  {
   "cell_type": "markdown",
   "id": "815ce1ae-9a83-4b44-8024-c9d37c9f5e7b",
   "metadata": {},
   "source": [
    "# Lower Case\r",
    "### The \"lower()\" method returns the string in lower case:\r\n",
    "\r\n",
    "\n"
   ]
  },
  {
   "cell_type": "code",
   "execution_count": 18,
   "id": "2f6b1aae-e9b6-41b6-8b27-545c78ad8374",
   "metadata": {},
   "outputs": [
    {
     "name": "stdout",
     "output_type": "stream",
     "text": [
      "hello, world!\n"
     ]
    }
   ],
   "source": [
    "a = \"Hello, World!\"\n",
    "print(a.lower())\n"
   ]
  },
  {
   "cell_type": "markdown",
   "id": "40bd2df3-013e-4f92-a05e-976a1e631bc9",
   "metadata": {},
   "source": [
    "# Remove Whitespace\r",
    "## Whitespace is the space before and/or after the actual text, and very often you want to remove this space.\r",
    "### The \"strip()\" method removes any whitespace from the beginning or the end:\r\n",
    "\r\n",
    "\n",
    "\r\n",
    "\n"
   ]
  },
  {
   "cell_type": "code",
   "execution_count": 19,
   "id": "3a530567-467b-47a5-b908-a40b9bbdeb4f",
   "metadata": {},
   "outputs": [
    {
     "name": "stdout",
     "output_type": "stream",
     "text": [
      "Hello, World!\n"
     ]
    }
   ],
   "source": [
    "a = \"  Hello, World! \"\n",
    "print(a.strip())\n"
   ]
  },
  {
   "cell_type": "markdown",
   "id": "8403277f-af21-4eff-94a9-d378db967e54",
   "metadata": {},
   "source": [
    "# Replace String\n",
    "### The \"replace()\" method replaces a string with another string:\r\n",
    "\r\n",
    "\r\n"
   ]
  },
  {
   "cell_type": "code",
   "execution_count": 24,
   "id": "3334dab8-c396-41c3-847e-8280c75971ec",
   "metadata": {},
   "outputs": [
    {
     "name": "stdout",
     "output_type": "stream",
     "text": [
      "Jello, My name is Amit.\n",
      "Hello, My name is Smit.\n"
     ]
    }
   ],
   "source": [
    "a = \"Hello, My name is Amit.\"\n",
    "print(a.replace(\"H\", \"J\"))\n",
    "print(a.replace(\"A\", \"S\"))\n",
    "\n"
   ]
  },
  {
   "cell_type": "markdown",
   "id": "96cee26b-def9-4739-82c4-fad08de8c4e0",
   "metadata": {},
   "source": [
    "# F-Strings\r",
    "### To specify a string as an f-string, simply put an f in front of the string literal, and add curly brackets \"{}\" as placeholders for variables and other operations.\r",
    "### Create an f-string:\r\n",
    "\r\n",
    "\n",
    "\r\n",
    "s\r\n"
   ]
  },
  {
   "cell_type": "code",
   "execution_count": 26,
   "id": "a5aca22e-ff36-4bf4-bbdd-d8d5ca7eabe2",
   "metadata": {},
   "outputs": [
    {
     "name": "stdout",
     "output_type": "stream",
     "text": [
      "My name is yash , I am 38\n"
     ]
    }
   ],
   "source": [
    "age = 38\n",
    "txt = f\"My name is yash , I am {age}\"\n",
    "print(txt)\n"
   ]
  },
  {
   "cell_type": "markdown",
   "id": "a52e3478-8cb8-41ac-9888-3716caaac938",
   "metadata": {},
   "source": [
    "# Placeholders and Modifiers\r",
    "## Placeholder can contain variables, operations, functions, and modifiers to format the value.\r",
    "### Add a placeholder for the price variable:\r\n",
    "\r\n",
    "\n",
    "\r\n",
    "\n"
   ]
  },
  {
   "cell_type": "code",
   "execution_count": 27,
   "id": "9670c839-731c-40aa-bd81-a31ac0b98dc3",
   "metadata": {},
   "outputs": [
    {
     "name": "stdout",
     "output_type": "stream",
     "text": [
      "The fruit price is 59 dollars\n"
     ]
    }
   ],
   "source": [
    "price = 59\n",
    "txt = f\"The fruit price is {price} dollars\"\n",
    "print(txt)"
   ]
  },
  {
   "cell_type": "markdown",
   "id": "cf10a321-9d32-4ab4-b3e3-ae0776cfaf8d",
   "metadata": {},
   "source": [
    "## A placeholder can include a modifier to format the value.\r",
    "### A modifier is included by adding a (colon \":\") followed by a legal formatting type, like \".2f\" which means fixed point number with 2 decimals:\r\n",
    "\r\n",
    "\n",
    "\r\n"
   ]
  },
  {
   "cell_type": "code",
   "execution_count": 29,
   "id": "a3c8513e-3531-4809-965b-779b57192d04",
   "metadata": {},
   "outputs": [
    {
     "name": "stdout",
     "output_type": "stream",
     "text": [
      "The fruit price is 59.00 dollars\n"
     ]
    }
   ],
   "source": [
    "price = 59\n",
    "txt = f\"The fruit price is {price:.2f} dollars\"\n",
    "print(txt)"
   ]
  },
  {
   "cell_type": "markdown",
   "id": "aac31746-4e06-4a30-bbd9-6ed71e23d640",
   "metadata": {},
   "source": [
    "### A placeholder can contain Python code, like math operations:\r\n",
    "\r\n"
   ]
  },
  {
   "cell_type": "code",
   "execution_count": 30,
   "id": "f81c095b-d103-4f4a-96a2-af378b4336d6",
   "metadata": {},
   "outputs": [
    {
     "name": "stdout",
     "output_type": "stream",
     "text": [
      "The fruit price is 1180 dollars\n"
     ]
    }
   ],
   "source": [
    "txt = f\"The fruit price is {20 * 59} dollars\"\n",
    "print(txt)"
   ]
  },
  {
   "cell_type": "code",
   "execution_count": 31,
   "id": "42001f45-d2a7-4dce-810b-796dd5b4e96a",
   "metadata": {},
   "outputs": [
    {
     "name": "stdout",
     "output_type": "stream",
     "text": [
      "The fruit price is 79 dollars\n"
     ]
    }
   ],
   "source": [
    "txt = f\"The fruit price is {20 + 59} dollars\"\n",
    "print(txt)"
   ]
  },
  {
   "cell_type": "code",
   "execution_count": 49,
   "id": "990ed4ea-1671-4d8c-9fe5-e7b8fe21f4c4",
   "metadata": {},
   "outputs": [
    {
     "name": "stdout",
     "output_type": "stream",
     "text": [
      "The fruit price is 0.6779661016949152 dollars\n"
     ]
    }
   ],
   "source": [
    "txt = f\"The fruit price is { 40/ 59} dollars\"\n",
    "print(txt)"
   ]
  },
  {
   "cell_type": "markdown",
   "id": "48ce6410-b59d-41c0-80fe-01c22e158411",
   "metadata": {},
   "source": [
    "### If you want to use more values, just add more values to the format() method:\n",
    "### And add more placeholders:\r\n",
    "\r\n",
    "\n"
   ]
  },
  {
   "cell_type": "code",
   "execution_count": 50,
   "id": "f817ac60-42d5-4f59-8e61-cb6d64604e6a",
   "metadata": {},
   "outputs": [
    {
     "name": "stdout",
     "output_type": "stream",
     "text": [
      "I want 3 pieces of item number 567 for 49.00 dollars.\n"
     ]
    }
   ],
   "source": [
    "quantity = 3\n",
    "itemno = 567\n",
    "price = 49\n",
    "myorder = \"I want {} pieces of item number {} for {:.2f} dollars.\"\n",
    "print(myorder.format(quantity, itemno, price))"
   ]
  },
  {
   "cell_type": "markdown",
   "id": "5cde95ab-4d97-4607-affe-fa3072aa903b",
   "metadata": {},
   "source": [
    "# Python String centre() Method\r",
    "### Print the word \"banana\", taking up the space of 20 characters, with \"banana\" in the middle:\r\n",
    "\r\n",
    "\n",
    "\r\n",
    "\n",
    "\r\n"
   ]
  },
  {
   "cell_type": "code",
   "execution_count": 52,
   "id": "8f0eb3a6-10e6-4fca-9090-1f9f30f3dab3",
   "metadata": {},
   "outputs": [
    {
     "name": "stdout",
     "output_type": "stream",
     "text": [
      "       banana       \n"
     ]
    }
   ],
   "source": [
    "txt = \"banana\"\n",
    "x = txt.center(20)\n",
    "print(x)\n"
   ]
  },
  {
   "cell_type": "markdown",
   "id": "db8d0567-5ae3-4fcf-8c5c-b7bed4a75724",
   "metadata": {},
   "source": [
    "## Python List sort() Method\n",
    "### sort() used in alphabtically ascending order by default\r\n",
    "\r\n"
   ]
  },
  {
   "cell_type": "code",
   "execution_count": 60,
   "id": "15fe0b13-3e80-4cfb-b056-2a4325e752e2",
   "metadata": {},
   "outputs": [
    {
     "name": "stdout",
     "output_type": "stream",
     "text": [
      "['BMW', 'Ford', 'Volvo']\n"
     ]
    }
   ],
   "source": [
    "cars = ['Ford', 'BMW', 'Volvo']\n",
    "cars.sort()\n",
    "print(cars)\n"
   ]
  },
  {
   "cell_type": "markdown",
   "id": "7204870f-4772-43dd-ab6c-659cd77818e9",
   "metadata": {},
   "source": [
    "## Python String casefold() Method\n",
    "### Make the string lower case:\r\n",
    "\r\n",
    "\r\n",
    "\r\n"
   ]
  },
  {
   "cell_type": "code",
   "execution_count": 61,
   "id": "518704b1-25a8-4df9-ac1e-194063888b8b",
   "metadata": {},
   "outputs": [
    {
     "name": "stdout",
     "output_type": "stream",
     "text": [
      "hello, and welcome to my world!\n"
     ]
    }
   ],
   "source": [
    "txt = \"Hello, And Welcome To My World!\"\n",
    "x = txt.casefold()\n",
    "print(x)\n"
   ]
  },
  {
   "cell_type": "code",
   "execution_count": null,
   "id": "0f8b20aa-cb1b-445a-a8d9-ca6fb0fa6ee7",
   "metadata": {},
   "outputs": [],
   "source": []
  }
 ],
 "metadata": {
  "kernelspec": {
   "display_name": "Python 3 (ipykernel)",
   "language": "python",
   "name": "python3"
  },
  "language_info": {
   "codemirror_mode": {
    "name": "ipython",
    "version": 3
   },
   "file_extension": ".py",
   "mimetype": "text/x-python",
   "name": "python",
   "nbconvert_exporter": "python",
   "pygments_lexer": "ipython3",
   "version": "3.12.4"
  }
 },
 "nbformat": 4,
 "nbformat_minor": 5
}
